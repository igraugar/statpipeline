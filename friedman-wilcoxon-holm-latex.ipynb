{
 "cells": [
  {
   "cell_type": "markdown",
   "metadata": {},
   "source": [
    "Statistical validation of differences in performance among algorithms across benchmark datasets.\n",
    "@author: igraugar@vub.be"
   ]
  },
  {
   "cell_type": "code",
   "execution_count": 1,
   "metadata": {},
   "outputs": [
    {
     "name": "stderr",
     "output_type": "stream",
     "text": [
      "C:\\Users\\graui\\Anaconda3\\lib\\site-packages\\statsmodels\\tools\\_testing.py:19: FutureWarning: pandas.util.testing is deprecated. Use the functions in the public API at pandas.testing instead.\n",
      "  import pandas.util.testing as tm\n"
     ]
    }
   ],
   "source": [
    "import pandas as pd\n",
    "import numpy as np\n",
    "from scipy.stats import wilcoxon\n",
    "from scipy.stats import friedmanchisquare\n",
    "from statsmodels.stats.multitest import multipletests"
   ]
  },
  {
   "cell_type": "code",
   "execution_count": 2,
   "metadata": {},
   "outputs": [
    {
     "data": {
      "text/html": [
       "<div>\n",
       "<style scoped>\n",
       "    .dataframe tbody tr th:only-of-type {\n",
       "        vertical-align: middle;\n",
       "    }\n",
       "\n",
       "    .dataframe tbody tr th {\n",
       "        vertical-align: top;\n",
       "    }\n",
       "\n",
       "    .dataframe thead th {\n",
       "        text-align: right;\n",
       "    }\n",
       "</style>\n",
       "<table border=\"1\" class=\"dataframe\">\n",
       "  <thead>\n",
       "    <tr style=\"text-align: right;\">\n",
       "      <th></th>\n",
       "      <th>dataset</th>\n",
       "      <th>Alg1</th>\n",
       "      <th>Alg2</th>\n",
       "      <th>Alg3</th>\n",
       "    </tr>\n",
       "  </thead>\n",
       "  <tbody>\n",
       "    <tr>\n",
       "      <th>0</th>\n",
       "      <td>data1</td>\n",
       "      <td>0.131279</td>\n",
       "      <td>0.137068</td>\n",
       "      <td>0.132441</td>\n",
       "    </tr>\n",
       "    <tr>\n",
       "      <th>1</th>\n",
       "      <td>data2</td>\n",
       "      <td>0.461496</td>\n",
       "      <td>0.479547</td>\n",
       "      <td>0.570257</td>\n",
       "    </tr>\n",
       "    <tr>\n",
       "      <th>2</th>\n",
       "      <td>data3</td>\n",
       "      <td>0.712912</td>\n",
       "      <td>0.724823</td>\n",
       "      <td>0.725016</td>\n",
       "    </tr>\n",
       "    <tr>\n",
       "      <th>3</th>\n",
       "      <td>data4</td>\n",
       "      <td>0.513625</td>\n",
       "      <td>0.470073</td>\n",
       "      <td>0.466632</td>\n",
       "    </tr>\n",
       "    <tr>\n",
       "      <th>4</th>\n",
       "      <td>data5</td>\n",
       "      <td>0.765309</td>\n",
       "      <td>0.765585</td>\n",
       "      <td>0.767941</td>\n",
       "    </tr>\n",
       "  </tbody>\n",
       "</table>\n",
       "</div>"
      ],
      "text/plain": [
       "  dataset      Alg1      Alg2      Alg3\n",
       "0   data1  0.131279  0.137068  0.132441\n",
       "1   data2  0.461496  0.479547  0.570257\n",
       "2   data3  0.712912  0.724823  0.725016\n",
       "3   data4  0.513625  0.470073  0.466632\n",
       "4   data5  0.765309  0.765585  0.767941"
      ]
     },
     "execution_count": 2,
     "metadata": {},
     "output_type": "execute_result"
    }
   ],
   "source": [
    "df = pd.read_csv(\"example.csv\") # csv file with observations in rows and algorithms in columns\n",
    "df.head()"
   ]
  },
  {
   "cell_type": "code",
   "execution_count": 3,
   "metadata": {},
   "outputs": [
    {
     "data": {
      "text/html": [
       "<div>\n",
       "<style scoped>\n",
       "    .dataframe tbody tr th:only-of-type {\n",
       "        vertical-align: middle;\n",
       "    }\n",
       "\n",
       "    .dataframe tbody tr th {\n",
       "        vertical-align: top;\n",
       "    }\n",
       "\n",
       "    .dataframe thead th {\n",
       "        text-align: right;\n",
       "    }\n",
       "</style>\n",
       "<table border=\"1\" class=\"dataframe\">\n",
       "  <thead>\n",
       "    <tr style=\"text-align: right;\">\n",
       "      <th></th>\n",
       "      <th>Alg1</th>\n",
       "      <th>Alg2</th>\n",
       "      <th>Alg3</th>\n",
       "    </tr>\n",
       "  </thead>\n",
       "  <tbody>\n",
       "    <tr>\n",
       "      <th>0</th>\n",
       "      <td>0.131279</td>\n",
       "      <td>0.137068</td>\n",
       "      <td>0.132441</td>\n",
       "    </tr>\n",
       "    <tr>\n",
       "      <th>1</th>\n",
       "      <td>0.461496</td>\n",
       "      <td>0.479547</td>\n",
       "      <td>0.570257</td>\n",
       "    </tr>\n",
       "    <tr>\n",
       "      <th>2</th>\n",
       "      <td>0.712912</td>\n",
       "      <td>0.724823</td>\n",
       "      <td>0.725016</td>\n",
       "    </tr>\n",
       "    <tr>\n",
       "      <th>3</th>\n",
       "      <td>0.513625</td>\n",
       "      <td>0.470073</td>\n",
       "      <td>0.466632</td>\n",
       "    </tr>\n",
       "    <tr>\n",
       "      <th>4</th>\n",
       "      <td>0.765309</td>\n",
       "      <td>0.765585</td>\n",
       "      <td>0.767941</td>\n",
       "    </tr>\n",
       "  </tbody>\n",
       "</table>\n",
       "</div>"
      ],
      "text/plain": [
       "       Alg1      Alg2      Alg3\n",
       "0  0.131279  0.137068  0.132441\n",
       "1  0.461496  0.479547  0.570257\n",
       "2  0.712912  0.724823  0.725016\n",
       "3  0.513625  0.470073  0.466632\n",
       "4  0.765309  0.765585  0.767941"
      ]
     },
     "execution_count": 3,
     "metadata": {},
     "output_type": "execute_result"
    }
   ],
   "source": [
    "# remove \"dataset\" column if needed\n",
    "\n",
    "df = df.drop('dataset', axis=1)\n",
    "df.head()"
   ]
  },
  {
   "cell_type": "code",
   "execution_count": 4,
   "metadata": {},
   "outputs": [
    {
     "name": "stdout",
     "output_type": "stream",
     "text": [
      "Friedman chi square stat = 7.42E+00, p-value = 2.45E-02\n",
      "Reject H0\n"
     ]
    }
   ],
   "source": [
    "# Friedman mean rank test for k related samples\n",
    "\n",
    "freidman_stat, friedman_pvalue = friedmanchisquare(*[df[c] for c in df.columns])\n",
    "print(\"Friedman chi square stat = %.2E, p-value = %.2E\" % (freidman_stat, friedman_pvalue))\n",
    "\n",
    "# interpretation\n",
    "alpha = 0.05\n",
    "print(\"Fail to reject H0\" if friedman_pvalue > alpha else \"Reject H0\")"
   ]
  },
  {
   "cell_type": "code",
   "execution_count": 5,
   "metadata": {},
   "outputs": [
    {
     "name": "stdout",
     "output_type": "stream",
     "text": [
      "Wilcoxon stat = 4.18E+02, p-value = 8.45E-03\n",
      "R- = 37\n",
      "R+ = 16\n",
      "Reject H0\n"
     ]
    }
   ],
   "source": [
    "# Wilcoxon piarwise test for 2 related samples\n",
    "\n",
    "alg1 = 'Alg2'\n",
    "alg2 = 'Alg3'\n",
    "\n",
    "wilcoxon_stat, wilcoxon_pvalue = wilcoxon(df[alg1], df[alg2])\n",
    "print(\"Wilcoxon stat = %.2E, p-value = %.2E\" % (wilcoxon_stat, wilcoxon_pvalue))\n",
    "print(\"R- =\", (df[alg2] < df[alg1]).sum())\n",
    "print(\"R+ =\", (df[alg2] > df[alg1]).sum())\n",
    "\n",
    "# interpretation\n",
    "alpha = 0.05\n",
    "print(\"Fail to reject H0\" if wilcoxon_pvalue > alpha else \"Reject H0\")"
   ]
  },
  {
   "cell_type": "code",
   "execution_count": 6,
   "metadata": {
    "scrolled": true
   },
   "outputs": [
    {
     "name": "stdout",
     "output_type": "stream",
     "text": [
      "Wilcoxon test for Alg1 vs. Alg3\n",
      "Wilcoxon stat = 5.16E+02, p-value = 1.68E-01\n",
      "R- = 30\n",
      "R+ = 21\n",
      "Fail to reject H0\n",
      "\n",
      "Wilcoxon test for Alg2 vs. Alg3\n",
      "Wilcoxon stat = 4.18E+02, p-value = 8.45E-03\n",
      "R- = 37\n",
      "R+ = 16\n",
      "Reject H0\n",
      "\n"
     ]
    }
   ],
   "source": [
    "# Multiple Wilcoxon tests using the last column as control\n",
    "\n",
    "control_col = df.columns[len(df.columns)-1]\n",
    "df2 = df.drop(control_col, axis=1)\n",
    "df2.head()\n",
    "\n",
    "# for Holm correction (see next cell)\n",
    "uncorrected_pvalues = []\n",
    "rnegs = []\n",
    "rposs = []\n",
    "\n",
    "for c in df2.columns:\n",
    "    wilcoxon_stat, wilcoxon_pvalue = wilcoxon(df[c], df[control_col])\n",
    "    print(\"Wilcoxon test for\", df[c].name, \"vs.\", df[control_col].name)\n",
    "    print(\"Wilcoxon stat = %.2E, p-value = %.2E\" % (wilcoxon_stat, wilcoxon_pvalue))\n",
    "    uncorrected_pvalues.append(wilcoxon_pvalue)\n",
    "    rneg = (df[control_col] < df[c]).sum()\n",
    "    rnegs.append(rneg)\n",
    "    print(\"R- =\", rneg)\n",
    "    rpos = (df[control_col] > df[c]).sum()\n",
    "    rposs.append(rpos)\n",
    "    print(\"R+ =\", rpos)\n",
    "\n",
    "    # interpretation\n",
    "    alpha = 0.05\n",
    "    print(\"Fail to reject H0\\n\" if wilcoxon_pvalue > alpha else \"Reject H0\\n\")"
   ]
  },
  {
   "cell_type": "code",
   "execution_count": 7,
   "metadata": {},
   "outputs": [
    {
     "name": "stdout",
     "output_type": "stream",
     "text": [
      "Fail to reject H0, corrected p-value =  1.68E-01\n",
      "Reject H0, corrected p-value =  1.69E-02\n"
     ]
    }
   ],
   "source": [
    "holm = multipletests(uncorrected_pvalues, method='holm')\n",
    "for b,p in zip(holm[0],holm[1]):\n",
    "    print(\"Reject H0,\" if b else \"Fail to reject H0,\", \"corrected p-value = \", \"%.2E\" % p)"
   ]
  },
  {
   "cell_type": "code",
   "execution_count": 8,
   "metadata": {},
   "outputs": [
    {
     "name": "stdout",
     "output_type": "stream",
     "text": [
      "\\begin{table}[!ht]\n",
      "\\centering\n",
      "\\caption{Friedman $p$-value = 0.025. Wilcoxon pairwise test with Holm correction using Alg3 as control algorithm.}\n",
      "\\label{label1}\n",
      "\\begin{tabular}{|lccccc|}\n",
      "\\hline\n",
      "Algorithm & $p$-value & $R^-$ & $R^+$ & Holm & $H_0$ \\\\\n",
      "\\hline\n",
      "Alg1 & 1.68E-01 & 30 & 21 & 1.68E-01 & Fail to reject \\\\\n",
      "Alg2 & 8.45E-03 & 37 & 16 & 1.69E-02 & Reject \\\\\n",
      "\\hline\n",
      "\\end{tabular}\n",
      "\\end{table}\n"
     ]
    }
   ],
   "source": [
    "# Friedman, Wilcoxon and Holm print to LaTeX table\n",
    "\n",
    "out = \"\"\n",
    "out = out + \"\\\\begin{table}[!ht]\\n\" + \"\\\\centering\\n\" + \"\\\\caption{Friedman $p$-value = %.3f. \" % friedman_pvalue + \"Wilcoxon pairwise test with Holm correction using \" + control_col + \" as control algorithm.\" + \"}\\n\" + \"\\\\label{label1}\\n\" + \"\\\\begin{tabular}{|lccccc|}\\n\" + \"\\\\hline\\n\" + \"Algorithm & $p$-value & $R^-$ & $R^+$ & Holm & $H_0$ \\\\\\\\\\n\" + \"\\\\hline\\n\"\n",
    "\n",
    "for alg,unc,rn,rp,corrp,h in zip(df2.columns,uncorrected_pvalues,rnegs,rposs,holm[1],holm[0]):\n",
    "    hyp = \"Reject\" if h else \"Fail to reject\"\n",
    "    out = out + df[alg].name + \" & \" + \"%.2E\" % unc + \" & \" + str(rn) + \" & \" + str(rp) + \" & \" + \"%.2E\" % corrp + \" & \" + hyp + \" \\\\\\\\\\n\"\n",
    "      \n",
    "out = out + \"\\\\hline\\n\" + \"\\\\end{tabular}\\n\" + \"\\\\end{table}\" \n",
    "\n",
    "print(out)"
   ]
  },
  {
   "cell_type": "code",
   "execution_count": null,
   "metadata": {},
   "outputs": [],
   "source": []
  }
 ],
 "metadata": {
  "kernelspec": {
   "display_name": "Python 3",
   "language": "python",
   "name": "python3"
  },
  "language_info": {
   "codemirror_mode": {
    "name": "ipython",
    "version": 3
   },
   "file_extension": ".py",
   "mimetype": "text/x-python",
   "name": "python",
   "nbconvert_exporter": "python",
   "pygments_lexer": "ipython3",
   "version": "3.7.1"
  }
 },
 "nbformat": 4,
 "nbformat_minor": 2
}
